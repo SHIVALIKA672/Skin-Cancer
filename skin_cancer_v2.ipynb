{
  "cells": [
    {
      "cell_type": "markdown",
      "metadata": {
        "id": "view-in-github",
        "colab_type": "text"
      },
      "source": [
        "<a href=\"https://colab.research.google.com/github/SHIVALIKA672/Skin-Cancer/blob/main/skin_cancer_v2.ipynb\" target=\"_parent\"><img src=\"https://colab.research.google.com/assets/colab-badge.svg\" alt=\"Open In Colab\"/></a>"
      ]
    },
    {
      "cell_type": "code",
      "execution_count": null,
      "metadata": {
        "id": "VH1DSywQ1Oib"
      },
      "outputs": [],
      "source": [
        "from keras.layers import Input, Lambda, Dense, Flatten\n",
        "from keras.models import Model\n",
        "from keras.applications.vgg16 import VGG16\n",
        "from keras.applications.vgg16 import preprocess_input\n",
        "from keras.preprocessing import image\n",
        "from keras.preprocessing.image import ImageDataGenerator\n",
        "from keras.models import Sequential\n",
        "import numpy as np\n",
        "from glob import glob\n",
        "import tensorflow as tf\n",
        "import matplotlib.pyplot as plt\n",
        "from google.colab import drive\n",
        "import os\n",
        "import pandas as pd\n",
        "import numpy as np\n",
        "from google.colab.patches import cv2_imshow\n",
        "import numpy as np\n",
        "import matplotlib.pyplot as plt\n",
        "from skimage.io import imread, imshow\n",
        "from skimage.color import rgb2hsv, rgb2gray, rgb2yuv\n",
        "from skimage import color, exposure, transform\n",
        "from skimage.exposure import equalize_hist\n",
        "import cv2\n",
        "import imghdr\n",
        "import numpy as np\n",
        "import os\n",
        "import PIL\n",
        "import PIL.Image\n",
        "import tensorflow as tf\n"
      ]
    },
    {
      "cell_type": "code",
      "execution_count": null,
      "metadata": {
        "colab": {
          "base_uri": "https://localhost:8080/"
        },
        "id": "jyN0AviBd5PE",
        "outputId": "1c23dd3c-df52-4f63-8a00-d7796134baa6"
      },
      "outputs": [
        {
          "name": "stdout",
          "output_type": "stream",
          "text": [
            "Thu Jul 13 11:41:07 2023       \n",
            "+-----------------------------------------------------------------------------+\n",
            "| NVIDIA-SMI 525.105.17   Driver Version: 525.105.17   CUDA Version: 12.0     |\n",
            "|-------------------------------+----------------------+----------------------+\n",
            "| GPU  Name        Persistence-M| Bus-Id        Disp.A | Volatile Uncorr. ECC |\n",
            "| Fan  Temp  Perf  Pwr:Usage/Cap|         Memory-Usage | GPU-Util  Compute M. |\n",
            "|                               |                      |               MIG M. |\n",
            "|===============================+======================+======================|\n",
            "|   0  Tesla T4            Off  | 00000000:00:04.0 Off |                    0 |\n",
            "| N/A   48C    P8     9W /  70W |      0MiB / 15360MiB |      0%      Default |\n",
            "|                               |                      |                  N/A |\n",
            "+-------------------------------+----------------------+----------------------+\n",
            "                                                                               \n",
            "+-----------------------------------------------------------------------------+\n",
            "| Processes:                                                                  |\n",
            "|  GPU   GI   CI        PID   Type   Process name                  GPU Memory |\n",
            "|        ID   ID                                                   Usage      |\n",
            "|=============================================================================|\n",
            "|  No running processes found                                                 |\n",
            "+-----------------------------------------------------------------------------+\n"
          ]
        }
      ],
      "source": [
        "!nvidia-smi"
      ]
    },
    {
      "cell_type": "code",
      "execution_count": null,
      "metadata": {
        "colab": {
          "base_uri": "https://localhost:8080/"
        },
        "id": "QXQACBOaS_gD",
        "outputId": "88daaf0d-623d-4368-e412-dfd792f68d91"
      },
      "outputs": [
        {
          "name": "stdout",
          "output_type": "stream",
          "text": [
            "Mounted at /content/drive\n"
          ]
        }
      ],
      "source": [
        "from google.colab import drive\n",
        "import os\n",
        "drive.mount('/content/drive')\n",
        "loc = r'/content/drive/My Drive/datasets/skin_cancer_final/'\n",
        "os.chdir(loc)"
      ]
    },
    {
      "cell_type": "code",
      "execution_count": null,
      "metadata": {
        "id": "sdpxsk-koJcn"
      },
      "outputs": [],
      "source": [
        "import pandas as pd\n",
        "\n",
        "data = {\n",
        "    'Model': ['VGG16', 'VGG19', 'DenseNet201', 'ResNet101', 'EfficientNetV2L', 'NASNetLarge', 'ConvNeXtXLarge', 'vgg&dense', 'efficent&resnet'],\n",
        "    'Recall': [0.875386, 0.862184, 0.866968, 0.881338, 0.867824, 0.787702, 0.926402, 0.902362, 0.898490],\n",
        "    'Accuracy': [0.874052, 0.861912, 0.874052, 0.881639, 0.869499, 0.786039, 0.927162, 0.901366, 0.899848],\n",
        "    'Precision': [0.872440, 0.860120, 0.880598, 0.880043, 0.868297, 0.784918, 0.926402, 0.899750, 0.899003],\n",
        "    'AUC': [0.919287, 0.914180, 0.934993, 0.932442, 0.942810, 0.891524, 0.966416, 0.943599, 0.935192],\n",
        "    'F1': [0.873322, 0.860908, 0.870835, 0.880616, 0.868053, 0.785167, 0.926402, 0.900699, 0.898738],\n",
        "    'Norm Time': [0.078641, 0.005248, 0.000000, 0.017407, 0.177381, 0.155663, 1.000000, 0.094709, 0.287595],\n",
        "    'VScore': [2.645547, 2.615372, 2.656467, 2.672951, 2.642795, 2.414984, 2.763670, 2.724877, 2.707259]\n",
        "}\n",
        "\n",
        "df = pd.DataFrame(data)\n"
      ]
    },
    {
      "cell_type": "markdown",
      "metadata": {
        "id": "hvjzwFQ-s-4y"
      },
      "source": []
    },
    {
      "cell_type": "code",
      "execution_count": null,
      "metadata": {
        "colab": {
          "base_uri": "https://localhost:8080/",
          "height": 551
        },
        "id": "l0g5GPhtoKfG",
        "outputId": "bd1e4ce7-afba-4f01-f37d-76fb61ecc7a1"
      },
      "outputs": [
        {
          "data": {
            "image/png": "[encoded data removed]",
            "text/plain": [
              "<Figure size 640x480 with 1 Axes>"
            ]
          },
          "metadata": {},
          "output_type": "display_data"
        }
      ],
      "source": [
        "import matplotlib.pyplot as plt\n",
        "\n",
        "models = ['VGG16', 'VGG19', 'DenseNet201', 'ResNet101', 'EfficientNetV2L', 'NASNetLarge', 'ConvNeXtXLarge', 'vgg&dense', 'efficent&resnet']\n",
        "vscore = [2.645547, 2.615372, 2.656467, 2.672951, 2.642795, 2.414984, 2.763670, 2.724877, 2.707259]\n",
        "\n",
        "plt.bar(models, vscore)\n",
        "plt.xlabel('Models')\n",
        "plt.ylabel('V-Score')\n",
        "plt.title('V-Score Comparison')\n",
        "plt.ylim(2.3, 2.8)\n",
        "plt.xticks(rotation=45)\n",
        "plt.grid(True)\n",
        "plt.show()\n"
      ]
    },
    {
      "cell_type": "code",
      "execution_count": null,
      "metadata": {
        "colab": {
          "base_uri": "https://localhost:8080/",
          "height": 617
        },
        "id": "pCpKEi0-oKhW",
        "outputId": "d88e23f7-56a4-47e2-c837-837c841d5895"
      },
      "outputs": [
        {
          "data": {
            "text/html": [
              "<html>\n",
              "<head><meta charset=\"utf-8\" /></head>\n",
              "<body>\n",
              "    <div>            <script src=\"https://cdnjs.cloudflare.com/ajax/libs/mathjax/2.7.5/MathJax.js?config=TeX-AMS-MML_SVG\"></script><script type=\"text/javascript\">if (window.MathJax && window.MathJax.Hub && window.MathJax.Hub.Config) {window.MathJax.Hub.Config({SVG: {font: \"STIX-Web\"}});}</script>                <script type=\"text/javascript\">window.PlotlyConfig = {MathJaxConfig: 'local'};</script>\n",
              "        <script src=\"https://cdn.plot.ly/plotly-2.18.2.min.js\"></script>                <div id=\"713cdc24-cb80-4c87-8e9f-67cda774d57d\" class=\"plotly-graph-div\" style=\"height:600px; width:800px;\"></div>            <script type=\"text/javascript\">                                    window.PLOTLYENV=window.PLOTLYENV || {};                                    if (document.getElementById(\"713cdc24-cb80-4c87-8e9f-67cda774d57d\")) {                    Plotly.newPlot(                        \"713cdc24-cb80-4c87-8e9f-67cda774d57d\",                        [{\"name\":\"Recall\",\"x\":[\"VGG16\",\"VGG19\",\"DenseNet201\",\"ResNet101\",\"EfficientNetV2L\",\"NASNetLarge\",\"ConvNeXtXLarge\",\"vgg&dense\",\"efficent&resnet\"],\"y\":[0.875386,0.862184,0.866968,0.881338,0.867824,0.787702,0.926402,0.902362,0.89849],\"type\":\"bar\"},{\"name\":\"Accuracy\",\"x\":[\"VGG16\",\"VGG19\",\"DenseNet201\",\"ResNet101\",\"EfficientNetV2L\",\"NASNetLarge\",\"ConvNeXtXLarge\",\"vgg&dense\",\"efficent&resnet\"],\"y\":[0.874052,0.861912,0.874052,0.881639,0.869499,0.786039,0.927162,0.901366,0.899848],\"type\":\"bar\"},{\"name\":\"Precision\",\"x\":[\"VGG16\",\"VGG19\",\"DenseNet201\",\"ResNet101\",\"EfficientNetV2L\",\"NASNetLarge\",\"ConvNeXtXLarge\",\"vgg&dense\",\"efficent&resnet\"],\"y\":[0.87244,0.86012,0.880598,0.880043,0.868297,0.784918,0.926402,0.89975,0.899003],\"type\":\"bar\"},{\"name\":\"AUC\",\"x\":[\"VGG16\",\"VGG19\",\"DenseNet201\",\"ResNet101\",\"EfficientNetV2L\",\"NASNetLarge\",\"ConvNeXtXLarge\",\"vgg&dense\",\"efficent&resnet\"],\"y\":[0.919287,0.91418,0.934993,0.932442,0.94281,0.891524,0.966416,0.943599,0.935192],\"type\":\"bar\"},{\"name\":\"F1\",\"x\":[\"VGG16\",\"VGG19\",\"DenseNet201\",\"ResNet101\",\"EfficientNetV2L\",\"NASNetLarge\",\"ConvNeXtXLarge\",\"vgg&dense\",\"efficent&resnet\"],\"y\":[0.873322,0.860908,0.870835,0.880616,0.868053,0.785167,0.926402,0.900699,0.898738],\"type\":\"bar\"}],                        {\"template\":{\"data\":{\"histogram2dcontour\":[{\"type\":\"histogram2dcontour\",\"colorbar\":{\"outlinewidth\":0,\"ticks\":\"\"},\"colorscale\":[[0.0,\"#0d0887\"],[0.1111111111111111,\"#46039f\"],[0.2222222222222222,\"#7201a8\"],[0.3333333333333333,\"#9c179e\"],[0.4444444444444444,\"#bd3786\"],[0.5555555555555556,\"#d8576b\"],[0.6666666666666666,\"#ed7953\"],[0.7777777777777778,\"#fb9f3a\"],[0.8888888888888888,\"#fdca26\"],[1.0,\"#f0f921\"]]}],\"choropleth\":[{\"type\":\"choropleth\",\"colorbar\":{\"outlinewidth\":0,\"ticks\":\"\"}}],\"histogram2d\":[{\"type\":\"histogram2d\",\"colorbar\":{\"outlinewidth\":0,\"ticks\":\"\"},\"colorscale\":[[0.0,\"#0d0887\"],[0.1111111111111111,\"#46039f\"],[0.2222222222222222,\"#7201a8\"],[0.3333333333333333,\"#9c179e\"],[0.4444444444444444,\"#bd3786\"],[0.5555555555555556,\"#d8576b\"],[0.6666666666666666,\"#ed7953\"],[0.7777777777777778,\"#fb9f3a\"],[0.8888888888888888,\"#fdca26\"],[1.0,\"#f0f921\"]]}],\"heatmap\":[{\"type\":\"heatmap\",\"colorbar\":{\"outlinewidth\":0,\"ticks\":\"\"},\"colorscale\":[[0.0,\"#0d0887\"],[0.1111111111111111,\"#46039f\"],[0.2222222222222222,\"#7201a8\"],[0.3333333333333333,\"#9c179e\"],[0.4444444444444444,\"#bd3786\"],[0.5555555555555556,\"#d8576b\"],[0.6666666666666666,\"#ed7953\"],[0.7777777777777778,\"#fb9f3a\"],[0.8888888888888888,\"#fdca26\"],[1.0,\"#f0f921\"]]}],\"heatmapgl\":[{\"type\":\"heatmapgl\",\"colorbar\":{\"outlinewidth\":0,\"ticks\":\"\"},\"colorscale\":[[0.0,\"#0d0887\"],[0.1111111111111111,\"#46039f\"],[0.2222222222222222,\"#7201a8\"],[0.3333333333333333,\"#9c179e\"],[0.4444444444444444,\"#bd3786\"],[0.5555555555555556,\"#d8576b\"],[0.6666666666666666,\"#ed7953\"],[0.7777777777777778,\"#fb9f3a\"],[0.8888888888888888,\"#fdca26\"],[1.0,\"#f0f921\"]]}],\"contourcarpet\":[{\"type\":\"contourcarpet\",\"colorbar\":{\"outlinewidth\":0,\"ticks\":\"\"}}],\"contour\":[{\"type\":\"contour\",\"colorbar\":{\"outlinewidth\":0,\"ticks\":\"\"},\"colorscale\":[[0.0,\"#0d0887\"],[0.1111111111111111,\"#46039f\"],[0.2222222222222222,\"#7201a8\"],[0.3333333333333333,\"#9c179e\"],[0.4444444444444444,\"#bd3786\"],[0.5555555555555556,\"#d8576b\"],[0.6666666666666666,\"#ed7953\"],[0.7777777777777778,\"#fb9f3a\"],[0.8888888888888888,\"#fdca26\"],[1.0,\"#f0f921\"]]}],\"surface\":[{\"type\":\"surface\",\"colorbar\":{\"outlinewidth\":0,\"ticks\":\"\"},\"colorscale\":[[0.0,\"#0d0887\"],[0.1111111111111111,\"#46039f\"],[0.2222222222222222,\"#7201a8\"],[0.3333333333333333,\"#9c179e\"],[0.4444444444444444,\"#bd3786\"],[0.5555555555555556,\"#d8576b\"],[0.6666666666666666,\"#ed7953\"],[0.7777777777777778,\"#fb9f3a\"],[0.8888888888888888,\"#fdca26\"],[1.0,\"#f0f921\"]]}],\"mesh3d\":[{\"type\":\"mesh3d\",\"colorbar\":{\"outlinewidth\":0,\"ticks\":\"\"}}],\"scatter\":[{\"fillpattern\":{\"fillmode\":\"overlay\",\"size\":10,\"solidity\":0.2},\"type\":\"scatter\"}],\"parcoords\":[{\"type\":\"parcoords\",\"line\":{\"colorbar\":{\"outlinewidth\":0,\"ticks\":\"\"}}}],\"scatterpolargl\":[{\"type\":\"scatterpolargl\",\"marker\":{\"colorbar\":{\"outlinewidth\":0,\"ticks\":\"\"}}}],\"bar\":[{\"error_x\":{\"color\":\"#2a3f5f\"},\"error_y\":{\"color\":\"#2a3f5f\"},\"marker\":{\"line\":{\"color\":\"#E5ECF6\",\"width\":0.5},\"pattern\":{\"fillmode\":\"overlay\",\"size\":10,\"solidity\":0.2}},\"type\":\"bar\"}],\"scattergeo\":[{\"type\":\"scattergeo\",\"marker\":{\"colorbar\":{\"outlinewidth\":0,\"ticks\":\"\"}}}],\"scatterpolar\":[{\"type\":\"scatterpolar\",\"marker\":{\"colorbar\":{\"outlinewidth\":0,\"ticks\":\"\"}}}],\"histogram\":[{\"marker\":{\"pattern\":{\"fillmode\":\"overlay\",\"size\":10,\"solidity\":0.2}},\"type\":\"histogram\"}],\"scattergl\":[{\"type\":\"scattergl\",\"marker\":{\"colorbar\":{\"outlinewidth\":0,\"ticks\":\"\"}}}],\"scatter3d\":[{\"type\":\"scatter3d\",\"line\":{\"colorbar\":{\"outlinewidth\":0,\"ticks\":\"\"}},\"marker\":{\"colorbar\":{\"outlinewidth\":0,\"ticks\":\"\"}}}],\"scattermapbox\":[{\"type\":\"scattermapbox\",\"marker\":{\"colorbar\":{\"outlinewidth\":0,\"ticks\":\"\"}}}],\"scatterternary\":[{\"type\":\"scatterternary\",\"marker\":{\"colorbar\":{\"outlinewidth\":0,\"ticks\":\"\"}}}],\"scattercarpet\":[{\"type\":\"scattercarpet\",\"marker\":{\"colorbar\":{\"outlinewidth\":0,\"ticks\":\"\"}}}],\"carpet\":[{\"aaxis\":{\"endlinecolor\":\"#2a3f5f\",\"gridcolor\":\"white\",\"linecolor\":\"white\",\"minorgridcolor\":\"white\",\"startlinecolor\":\"#2a3f5f\"},\"baxis\":{\"endlinecolor\":\"#2a3f5f\",\"gridcolor\":\"white\",\"linecolor\":\"white\",\"minorgridcolor\":\"white\",\"startlinecolor\":\"#2a3f5f\"},\"type\":\"carpet\"}],\"table\":[{\"cells\":{\"fill\":{\"color\":\"#EBF0F8\"},\"line\":{\"color\":\"white\"}},\"header\":{\"fill\":{\"color\":\"#C8D4E3\"},\"line\":{\"color\":\"white\"}},\"type\":\"table\"}],\"barpolar\":[{\"marker\":{\"line\":{\"color\":\"#E5ECF6\",\"width\":0.5},\"pattern\":{\"fillmode\":\"overlay\",\"size\":10,\"solidity\":0.2}},\"type\":\"barpolar\"}],\"pie\":[{\"automargin\":true,\"type\":\"pie\"}]},\"layout\":{\"autotypenumbers\":\"strict\",\"colorway\":[\"#636efa\",\"#EF553B\",\"#00cc96\",\"#ab63fa\",\"#FFA15A\",\"#19d3f3\",\"#FF6692\",\"#B6E880\",\"#FF97FF\",\"#FECB52\"],\"font\":{\"color\":\"#2a3f5f\"},\"hovermode\":\"closest\",\"hoverlabel\":{\"align\":\"left\"},\"paper_bgcolor\":\"white\",\"plot_bgcolor\":\"#E5ECF6\",\"polar\":{\"bgcolor\":\"#E5ECF6\",\"angularaxis\":{\"gridcolor\":\"white\",\"linecolor\":\"white\",\"ticks\":\"\"},\"radialaxis\":{\"gridcolor\":\"white\",\"linecolor\":\"white\",\"ticks\":\"\"}},\"ternary\":{\"bgcolor\":\"#E5ECF6\",\"aaxis\":{\"gridcolor\":\"white\",\"linecolor\":\"white\",\"ticks\":\"\"},\"baxis\":{\"gridcolor\":\"white\",\"linecolor\":\"white\",\"ticks\":\"\"},\"caxis\":{\"gridcolor\":\"white\",\"linecolor\":\"white\",\"ticks\":\"\"}},\"coloraxis\":{\"colorbar\":{\"outlinewidth\":0,\"ticks\":\"\"}},\"colorscale\":{\"sequential\":[[0.0,\"#0d0887\"],[0.1111111111111111,\"#46039f\"],[0.2222222222222222,\"#7201a8\"],[0.3333333333333333,\"#9c179e\"],[0.4444444444444444,\"#bd3786\"],[0.5555555555555556,\"#d8576b\"],[0.6666666666666666,\"#ed7953\"],[0.7777777777777778,\"#fb9f3a\"],[0.8888888888888888,\"#fdca26\"],[1.0,\"#f0f921\"]],\"sequentialminus\":[[0.0,\"#0d0887\"],[0.1111111111111111,\"#46039f\"],[0.2222222222222222,\"#7201a8\"],[0.3333333333333333,\"#9c179e\"],[0.4444444444444444,\"#bd3786\"],[0.5555555555555556,\"#d8576b\"],[0.6666666666666666,\"#ed7953\"],[0.7777777777777778,\"#fb9f3a\"],[0.8888888888888888,\"#fdca26\"],[1.0,\"#f0f921\"]],\"diverging\":[[0,\"#8e0152\"],[0.1,\"#c51b7d\"],[0.2,\"#de77ae\"],[0.3,\"#f1b6da\"],[0.4,\"#fde0ef\"],[0.5,\"#f7f7f7\"],[0.6,\"#e6f5d0\"],[0.7,\"#b8e186\"],[0.8,\"#7fbc41\"],[0.9,\"#4d9221\"],[1,\"#276419\"]]},\"xaxis\":{\"gridcolor\":\"white\",\"linecolor\":\"white\",\"ticks\":\"\",\"title\":{\"standoff\":15},\"zerolinecolor\":\"white\",\"automargin\":true,\"zerolinewidth\":2},\"yaxis\":{\"gridcolor\":\"white\",\"linecolor\":\"white\",\"ticks\":\"\",\"title\":{\"standoff\":15},\"zerolinecolor\":\"white\",\"automargin\":true,\"zerolinewidth\":2},\"scene\":{\"xaxis\":{\"backgroundcolor\":\"#E5ECF6\",\"gridcolor\":\"white\",\"linecolor\":\"white\",\"showbackground\":true,\"ticks\":\"\",\"zerolinecolor\":\"white\",\"gridwidth\":2},\"yaxis\":{\"backgroundcolor\":\"#E5ECF6\",\"gridcolor\":\"white\",\"linecolor\":\"white\",\"showbackground\":true,\"ticks\":\"\",\"zerolinecolor\":\"white\",\"gridwidth\":2},\"zaxis\":{\"backgroundcolor\":\"#E5ECF6\",\"gridcolor\":\"white\",\"linecolor\":\"white\",\"showbackground\":true,\"ticks\":\"\",\"zerolinecolor\":\"white\",\"gridwidth\":2}},\"shapedefaults\":{\"line\":{\"color\":\"#2a3f5f\"}},\"annotationdefaults\":{\"arrowcolor\":\"#2a3f5f\",\"arrowhead\":0,\"arrowwidth\":1},\"geo\":{\"bgcolor\":\"white\",\"landcolor\":\"#E5ECF6\",\"subunitcolor\":\"white\",\"showland\":true,\"showlakes\":true,\"lakecolor\":\"white\"},\"title\":{\"x\":0.05},\"mapbox\":{\"style\":\"light\"}}},\"xaxis\":{\"title\":{\"text\":\"Models\",\"font\":{\"size\":16,\"color\":\"black\"}},\"tickfont\":{\"size\":14},\"tickangle\":-45},\"yaxis\":{\"title\":{\"text\":\"Value\",\"font\":{\"size\":16,\"color\":\"black\"}},\"tickfont\":{\"size\":14,\"color\":\"black\"}},\"title\":{\"font\":{\"size\":20,\"color\":\"black\"},\"text\":\"Performance Metrics Per Model\",\"x\":0.5},\"legend\":{\"font\":{\"size\":12,\"color\":\"black\"}},\"barmode\":\"group\",\"width\":800,\"height\":600},                        {\"responsive\": true}                    ).then(function(){\n",
              "                            \n",
              "var gd = document.getElementById('713cdc24-cb80-4c87-8e9f-67cda774d57d');\n",
              "var x = new MutationObserver(function (mutations, observer) {{\n",
              "        var display = window.getComputedStyle(gd).display;\n",
              "        if (!display || display === 'none') {{\n",
              "            console.log([gd, 'removed!']);\n",
              "            Plotly.purge(gd);\n",
              "            observer.disconnect();\n",
              "        }}\n",
              "}});\n",
              "\n",
              "// Listen for the removal of the full notebook cells\n",
              "var notebookContainer = gd.closest('#notebook-container');\n",
              "if (notebookContainer) {{\n",
              "    x.observe(notebookContainer, {childList: true});\n",
              "}}\n",
              "\n",
              "// Listen for the clearing of the current output cell\n",
              "var outputEl = gd.closest('.output');\n",
              "if (outputEl) {{\n",
              "    x.observe(outputEl, {childList: true});\n",
              "}}\n",
              "\n",
              "                        })                };                            </script>        </div>\n",
              "</body>\n",
              "</html>"
            ]
          },
          "metadata": {},
          "output_type": "display_data"
        }
      ],
      "source": [
        "import pandas as pd\n",
        "import plotly.graph_objects as go\n",
        "\n",
        "# Your dataframe creation code here...\n",
        "\n",
        "# Creating subplots\n",
        "fig = go.Figure()\n",
        "\n",
        "# Adding bar for each performance metric\n",
        "for metric in ['Recall', 'Accuracy', 'Precision', 'AUC', 'F1']:\n",
        "    fig.add_trace(go.Bar(x=df['Model'], y=df[metric], name=metric))\n",
        "\n",
        "# Here we modify the tickangle of the xaxis, resulting in rotated labels.\n",
        "fig.update_layout(\n",
        "    barmode='group',\n",
        "    xaxis_tickangle=-45,\n",
        "    yaxis=dict(\n",
        "        title=\"Value\",\n",
        "        titlefont=dict(\n",
        "            size=16,\n",
        "            color='black',\n",
        "\n",
        "        ),\n",
        "        tickfont=dict(\n",
        "            size=14,\n",
        "            color='black',\n",
        "\n",
        "        )\n",
        "    ),\n",
        "    xaxis=dict(\n",
        "        title=\"Models\",\n",
        "        titlefont=dict(\n",
        "            size=16,\n",
        "            color='black',\n",
        "\n",
        "        ),\n",
        "        tickfont=dict(\n",
        "            size=14,\n",
        "\n",
        "        )\n",
        "    ),\n",
        "    title=dict(\n",
        "        text='Performance Metrics Per Model',\n",
        "        x=0.5,\n",
        "        font=dict(\n",
        "            size=20,\n",
        "            color='black',\n",
        "\n",
        "        )\n",
        "    ),\n",
        "    legend=dict(\n",
        "        font=dict(\n",
        "            size=12,\n",
        "            color='black',\n",
        "\n",
        "        )\n",
        "    )\n",
        ")\n",
        "fig.update_layout(\n",
        "    width=800,  # Specify the desired width in pixels\n",
        "    height=600  # Specify the desired height in pixels\n",
        ")\n",
        "fig.show()\n"
      ]
    },
    {
      "cell_type": "code",
      "execution_count": null,
      "metadata": {
        "colab": {
          "base_uri": "https://localhost:8080/"
        },
        "id": "wEBU5Xsv1Brr",
        "outputId": "2c20bc5d-865e-4e63-d1ee-883fb98593c5"
      },
      "outputs": [
        {
          "name": "stdout",
          "output_type": "stream",
          "text": [
            "Collecting tensorflow-addons\n",
            "  Downloading tensorflow_addons-0.21.0-cp310-cp310-manylinux_2_17_x86_64.manylinux2014_x86_64.whl (612 kB)\n",
            "\u001b[2K     \u001b[90m━━━━━━━━━━━━━━━━━━━━━━━━━━━━━━━━━━━━━━━\u001b[0m \u001b[32m612.1/612.1 kB\u001b[0m \u001b[31m6.5 MB/s\u001b[0m eta \u001b[36m0:00:00\u001b[0m\n",
            "\u001b[?25hRequirement already satisfied: packaging in /usr/local/lib/python3.10/dist-packages (from tensorflow-addons) (23.1)\n",
            "Collecting typeguard<3.0.0,>=2.7 (from tensorflow-addons)\n",
            "  Downloading typeguard-2.13.3-py3-none-any.whl (17 kB)\n",
            "Installing collected packages: typeguard, tensorflow-addons\n",
            "Successfully installed tensorflow-addons-0.21.0 typeguard-2.13.3\n"
          ]
        }
      ],
      "source": [
        "# !pip uninstall tensorflow\n",
        "# !pip install tensorflow\n",
        "!pip install tensorflow-addons"
      ]
    },
    {
      "cell_type": "code",
      "execution_count": null,
      "metadata": {
        "colab": {
          "background_save": true,
          "base_uri": "https://localhost:8080/"
        },
        "id": "Pqnop5psjjPO",
        "outputId": "043ffb44-8201-4bec-b596-5e69a2020cf6"
      },
      "outputs": [
        {
          "name": "stdout",
          "output_type": "stream",
          "text": [
            "Drive already mounted at /content/drive; to attempt to forcibly remount, call drive.mount(\"/content/drive\", force_remount=True).\n",
            "Found 3297 files belonging to 2 classes.\n",
            "Using 2803 files for training.\n",
            "Found 3297 files belonging to 2 classes.\n",
            "Using 659 files for validation.\n",
            "<keras.engine.functional.Functional object at 0x7fe179c552d0>\n",
            "Epoch 1/12\n",
            "44/44 [==============================] - 223s 4s/step - loss: 0.3409 - accuracy: 0.8420 - val_loss: 0.8261 - val_accuracy: 0.8179\n",
            "Epoch 2/12\n",
            "44/44 [==============================] - 174s 4s/step - loss: 0.1610 - accuracy: 0.9336 - val_loss: 0.4815 - val_accuracy: 0.8316\n",
            "Epoch 3/12\n",
            "44/44 [==============================] - 174s 4s/step - loss: 0.0682 - accuracy: 0.9786 - val_loss: 0.2854 - val_accuracy: 0.9044\n",
            "Epoch 4/12\n",
            "44/44 [==============================] - 174s 4s/step - loss: 0.0223 - accuracy: 0.9943 - val_loss: 0.2431 - val_accuracy: 0.9272\n",
            "Epoch 5/12\n",
            "44/44 [==============================] - 174s 4s/step - loss: 0.0161 - accuracy: 0.9943 - val_loss: 0.2446 - val_accuracy: 0.9317\n",
            "Epoch 6/12\n",
            "44/44 [==============================] - 174s 4s/step - loss: 0.0153 - accuracy: 0.9964 - val_loss: 0.3059 - val_accuracy: 0.9120\n",
            "Epoch 7/12\n",
            "44/44 [==============================] - 174s 4s/step - loss: 0.0166 - accuracy: 0.9961 - val_loss: 0.2944 - val_accuracy: 0.9135\n",
            "Epoch 8/12\n",
            "44/44 [==============================] - 182s 4s/step - loss: 0.0087 - accuracy: 0.9968 - val_loss: 0.3055 - val_accuracy: 0.9226\n",
            "Epoch 9/12\n",
            "44/44 [==============================] - 174s 4s/step - loss: 0.0192 - accuracy: 0.9925 - val_loss: 0.2802 - val_accuracy: 0.9272\n",
            "Epoch 10/12\n",
            "44/44 [==============================] - 174s 4s/step - loss: 0.0185 - accuracy: 0.9925 - val_loss: 0.2301 - val_accuracy: 0.9423\n",
            "Epoch 11/12\n",
            "44/44 [==============================] - 174s 4s/step - loss: 0.0080 - accuracy: 0.9975 - val_loss: 0.3327 - val_accuracy: 0.9211\n",
            "Epoch 12/12\n",
            "44/44 [==============================] - 174s 4s/step - loss: 0.0035 - accuracy: 0.9989 - val_loss: 0.3012 - val_accuracy: 0.9332\n",
            "<keras.engine.functional.Functional object at 0x7fe176cdc970>\n",
            "Epoch 1/12\n",
            "44/44 [==============================] - 116s 2s/step - loss: 0.3991 - accuracy: 0.8066 - val_loss: 0.5505 - val_accuracy: 0.8255\n",
            "Epoch 2/12\n",
            "44/44 [==============================] - 57s 1s/step - loss: 0.1863 - accuracy: 0.9197 - val_loss: 0.3175 - val_accuracy: 0.8801\n",
            "Epoch 3/12\n",
            "23/44 [==============>...............] - ETA: 22s - loss: 0.0845 - accuracy: 0.9694"
          ]
        }
      ],
      "source": [
        "import tensorflow as tf\n",
        "import numpy as np\n",
        "import matplotlib.pyplot as plt\n",
        "import os\n",
        "\n",
        "\n",
        "import tensorflow as tf\n",
        "import time\n",
        "from sklearn.metrics import accuracy_score\n",
        "from tensorflow.keras.metrics import Precision, Recall, CategoricalAccuracy, AUC, TrueNegatives, TruePositives, FalseNegatives, FalsePositives\n",
        "from sklearn.metrics import accuracy_score, confusion_matrix, classification_report\n",
        "from sklearn.metrics import precision_recall_fscore_support as score\n",
        "from google.colab import drive\n",
        "import pandas as pd\n",
        "\n",
        "import tensorflow_addons as tfa\n",
        "\n",
        "from tensorflow.keras import layers, Model\n",
        "from tensorflow.keras.utils import plot_model\n",
        "import networkx as nx\n",
        "import matplotlib.pyplot as plt\n",
        "drive.mount('/content/drive')\n",
        "loc = r'/content/drive/My Drive/datasets/skin_cancer_final/'\n",
        "os.chdir(loc)\n",
        "\n",
        "# Constants\n",
        "BATCH_SIZE = 64\n",
        "AUTOTUNE = tf.data.AUTOTUNE\n",
        "SEED = 777\n",
        "VALIDATION_SPLIT = 0.2\n",
        "\n",
        "class DebugLayer(layers.Layer):\n",
        "    def call(self, inputs):\n",
        "        print(\"Shape:\", tf.shape(inputs))\n",
        "        return inputs\n",
        "\n",
        "\n",
        "\n",
        "class FourierLayer(layers.Layer):\n",
        "    def __init__(self, **kwargs):\n",
        "        super(FourierLayer, self).__init__(**kwargs)\n",
        "\n",
        "    def build(self, input_shape):\n",
        "        pass\n",
        "\n",
        "    def call(self, inputs):\n",
        "        # Perform FFT and shift the zero frequency component to the center\n",
        "        inputs_fft = tf.signal.fftshift(tf.signal.fft2d(tf.cast(inputs, tf.complex64)))\n",
        "\n",
        "        # Take the absolute value to get the magnitude spectrum\n",
        "        inputs_fft_mag = tf.math.abs(inputs_fft)\n",
        "\n",
        "        # Optionally, take the log to visualize better\n",
        "        inputs_fft_mag = tf.math.log(inputs_fft_mag + 1e-8)\n",
        "\n",
        "        # Flatten the output\n",
        "        output = layers.Flatten()(inputs_fft_mag)\n",
        "\n",
        "        return output\n",
        "\n",
        "import pywt\n",
        "\n",
        "class WaveletTransformLayer(layers.Layer):\n",
        "    def __init__(self, **kwargs):\n",
        "        super(WaveletTransformLayer, self).__init__(**kwargs)\n",
        "\n",
        "    def call(self, inputs):\n",
        "        def wavelet_transform(input_image):\n",
        "            import pywt\n",
        "            input_image = input_image.numpy()\n",
        "            coeffs = pywt.dwt2(input_image, 'haar')\n",
        "            cA, (cH, cV, cD) = coeffs\n",
        "            return cA\n",
        "\n",
        "        output = tf.py_function(func=wavelet_transform,\n",
        "                                inp=[inputs],\n",
        "                                Tout=tf.float32)\n",
        "        output.set_shape([None, 112, 112, 3])  # Assuming that the output shape is half of the input for a single-level wavelet decomposition\n",
        "        return output\n",
        "\n",
        "class GaborLayer(layers.Layer):\n",
        "    def __init__(self, **kwargs):\n",
        "        super(GaborLayer, self).__init__(**kwargs)\n",
        "\n",
        "    def build(self, input_shape):\n",
        "        self.kernel = self.add_weight(\"kernel\",\n",
        "                                      (7, 7, input_shape[-1], 1),\n",
        "                                      initializer='random_normal')\n",
        "\n",
        "    def call(self, inputs):\n",
        "        return tf.nn.conv2d(inputs, self.kernel, strides=[1, 1, 1, 1], padding='SAME')\n",
        "\n",
        "class RGBtoHSVLayer(layers.Layer):\n",
        "    def __init__(self, **kwargs):\n",
        "        super(RGBtoHSVLayer, self).__init__(**kwargs)\n",
        "\n",
        "    def call(self, inputs):\n",
        "        return tf.image.rgb_to_hsv(inputs)\n",
        "\n",
        "\n",
        "class HistEqualizationLayer(layers.Layer):\n",
        "    def __init__(self, **kwargs):\n",
        "        super(HistEqualizationLayer, self).__init__(**kwargs)\n",
        "\n",
        "    def call(self, inputs):\n",
        "        return tf.image.adjust_contrast(inputs, 2)\n",
        "\n",
        "class LaplacianLayer(layers.Layer):\n",
        "    def __init__(self, **kwargs):\n",
        "        super(LaplacianLayer, self).__init__(**kwargs)\n",
        "\n",
        "    def call(self, inputs):\n",
        "        laplacian_filter = tf.constant([[0, -1, 0], [-1, 4, -1], [0, -1, 0]], dtype=tf.float32)\n",
        "        laplacian_filter = tf.reshape(laplacian_filter, [3, 3, 1, 1])\n",
        "        laplacian_filter = tf.repeat(laplacian_filter, 3, axis=-2)\n",
        "        return tf.nn.conv2d(inputs, laplacian_filter, strides=[1, 1, 1, 1], padding='SAME')\n",
        "\n",
        "class Solver:\n",
        "    def __init__(self, image_size):\n",
        "        self.eval = {'acc': {}, 'valacc': {}, 'loss': {}, 'valloss': {}, 'details': {'cm':[],'support': [], 'fscore': [], 'Recall': [], 'accuracy': [], 'Precision': [], 'auc': [], 'model': [], 'F1': []}}\n",
        "        self.IMAGE_SIZE = image_size\n",
        "        self.md = {}\n",
        "        self.models = {\n",
        "            'VGG16': tf.keras.applications.VGG16,\n",
        "            'VGG19': tf.keras.applications.VGG19,\n",
        "            # 'Xception': tf.keras.applications.Xception,\n",
        "            'DenseNet201': tf.keras.applications.DenseNet201,\n",
        "            'ResNet101': tf.keras.applications.ResNet101,\n",
        "            'EfficientNetV2L': tf.keras.applications.EfficientNetV2L,\n",
        "            # 'InceptionResNetV2' : tf.keras.applications.InceptionResNetV2,\n",
        "            'NASNetLarge' : tf.keras.applications.NASNetLarge,\n",
        "            'ConvNeXtXLarge': tf.keras.applications.ConvNeXtXLarge\n",
        "        }\n",
        "\n",
        "    def load_data(self, data_dir,BATCH_SIZE=BATCH_SIZE,val_split=VALIDATION_SPLIT):\n",
        "        self.train_ds, self.val_ds, self.num_classes = self._create_datasets(data_dir,val=val_split)\n",
        "\n",
        "    def _create_datasets(self, data_dir,val=VALIDATION_SPLIT):\n",
        "        train_ds = tf.keras.utils.image_dataset_from_directory(\n",
        "            data_dir,\n",
        "            validation_split=val,\n",
        "            subset=\"training\",\n",
        "            label_mode='categorical',\n",
        "            seed=SEED,\n",
        "            image_size=self.IMAGE_SIZE,\n",
        "            batch_size=BATCH_SIZE\n",
        "        )\n",
        "        val_ds = tf.keras.utils.image_dataset_from_directory(\n",
        "            data_dir,\n",
        "            validation_split=VALIDATION_SPLIT,\n",
        "            subset=\"validation\",\n",
        "            label_mode='categorical',\n",
        "            seed=SEED,\n",
        "            image_size=self.IMAGE_SIZE,\n",
        "            batch_size=BATCH_SIZE\n",
        "        )\n",
        "        num_classes = len(train_ds.class_names)\n",
        "        train_ds = train_ds.cache().shuffle(1000).prefetch(buffer_size=AUTOTUNE)\n",
        "        val_ds = val_ds.cache().prefetch(buffer_size=AUTOTUNE)\n",
        "        return train_ds, val_ds, num_classes\n",
        "\n",
        "\n",
        "    def combine(self, to_add):\n",
        "        for combination, models in to_add.items():\n",
        "            inputs = tf.keras.Input(shape=self.IMAGE_SIZE + [3], name=\"img\")\n",
        "            data_augmentation = tf.keras.Sequential([\n",
        "                layers.RandomContrast(0.1),\n",
        "            ])\n",
        "            x = data_augmentation(inputs)\n",
        "\n",
        "            combined_outputs = []\n",
        "            mod_combine = []\n",
        "\n",
        "            for model_name in models:\n",
        "                if model_name == 'EfficientNetV2L':\n",
        "                    model = self.models[model_name](input_tensor=x, weights='imagenet', include_top=False, include_preprocessing=True)\n",
        "                else:\n",
        "                    model = self.models[model_name](input_tensor=x, weights='imagenet', include_top=False)\n",
        "                for layer in model.layers:\n",
        "                    layer.trainable = False\n",
        "                model_output = model.output\n",
        "                model_output = layers.Flatten()(model_output)\n",
        "                mod_combine.append(model_output)\n",
        "\n",
        "            Flatten the outputs of each custom layer before appending\n",
        "            Fourier Transform\n",
        "            Fourier Layer (assuming you have 150528 output neurons)\n",
        "            fourier_output = FourierLayer()(inputs)\n",
        "            fourier_output = layers.Flatten()(fourier_output)\n",
        "            fourier_output = layers.Dense(64, activation=tfa.activations.gelu)(fourier_output)\n",
        "            combined_outputs.append(fourier_output)\n",
        "\n",
        "            # Wavelet Layer (assuming output shape is (None, 112, 112, 3))\n",
        "            # wavelet_output = WaveletTransformLayer()(inputs)\n",
        "            # wavelet_output = layers.Conv2D(32, (3,3), activation='tanh')(wavelet_output)\n",
        "            # wavelet_output = layers.Flatten()(wavelet_output)\n",
        "            # wavelet_output = layers.Dense(512, activation='relu')(wavelet_output)\n",
        "            # combined_outputs.append(wavelet_output)\n",
        "\n",
        "            # Laplacian Layer (assuming output shape is (None, 224, 224, 1))\n",
        "            laplacian_output = LaplacianLayer()(inputs)\n",
        "            laplacian_output = layers.Conv2D(16, (3,3), activation='relu')(laplacian_output)\n",
        "            laplacian_output = layers.Flatten()(laplacian_output)\n",
        "            laplacian_output = layers.Dense(32, activation=tfa.activations.gelu)(laplacian_output)\n",
        "            combined_outputs.append(laplacian_output)\n",
        "\n",
        "            # Gabor Layer (assuming output shape is (None, 224, 224, 1))\n",
        "            gabor_output = GaborLayer()(inputs)\n",
        "            gabor_output = layers.Conv2D(32, (3,3), activation='selu')(gabor_output)\n",
        "            gabor_output = layers.Flatten()(gabor_output)\n",
        "            gabor_output = layers.Dense(32, activation='relu')(gabor_output)\n",
        "            combined_outputs.append(gabor_output)\n",
        "\n",
        "            # RGB to HSV Layer (assuming output shape is (None, 224, 224, 3))\n",
        "            rgb_to_hsv_output = RGBtoHSVLayer()(inputs)\n",
        "            rgb_to_hsv_output = layers.Conv2D(32, (3,3), activation='relu')(rgb_to_hsv_output)\n",
        "            rgb_to_hsv_output = layers.Flatten()(rgb_to_hsv_output)\n",
        "            rgb_to_hsv_output = layers.Dense(32, activation=tfa.activations.gelu)(rgb_to_hsv_output)\n",
        "            combined_outputs.append(rgb_to_hsv_output)\n",
        "\n",
        "            # Histogram Equalization Layer (assuming output shape is (None, 224, 224, 3))\n",
        "            hist_equalization_output = HistEqualizationLayer()(inputs)\n",
        "            hist_equalization_output = layers.Conv2D(32, (3,3), activation='relu')(hist_equalization_output)\n",
        "            hist_equalization_output = layers.Flatten()(hist_equalization_output)\n",
        "            hist_equalization_output = layers.Dense(32, activation='relu')(hist_equalization_output)\n",
        "            combined_outputs.append(hist_equalization_output)\n",
        "\n",
        "            # Combine the outputs of all models\n",
        "            combined_output = layers.concatenate(combined_outputs)\n",
        "            combined_output = layers.Flatten()(combined_output)\n",
        "\n",
        "\n",
        "            mod_combine = layers.concatenate(mod_combine)\n",
        "            mod_combine = layers.Flatten()(mod_combine)\n",
        "            combined_output = DebugLayer(name='Debug_Combine')(combined_output)\n",
        "\n",
        "            # Additional layers and prediction\n",
        "            x = layers.Dense(self.num_classes * 128 * (len(models) + 2), activation=tfa.activations.gelu)(mod_combine)\n",
        "            x = layers.BatchNormalization()(x)\n",
        "\n",
        "\n",
        "            x_residual = x  # Save the current state of x for a residual connection later\n",
        "\n",
        "            x = layers.Dense(self.num_classes * 64 * (len(models) + 1), activation=tfa.activations.gelu)(x)\n",
        "            x = layers.BatchNormalization()(x)\n",
        "\n",
        "\n",
        "            x = layers.Dense(self.num_classes * 32 * (len(models)  ), activation=tfa.activations.gelu)(x)\n",
        "\n",
        "            # Residual Connection\n",
        "            x = layers.concatenate([x, x_residual])\n",
        "\n",
        "            x = layers.BatchNormalization()(x)\n",
        "            x = layers.Dense(self.num_classes * 8 * (len(models) + 2), activation=tfa.activations.gelu)(x)\n",
        "\n",
        "\n",
        "\n",
        "\n",
        "\n",
        "\n",
        "\n",
        "\n",
        "            # Additional layers and prediction\n",
        "            a = layers.Dense(self.num_classes * 128 * 2, activation=tfa.activations.gelu)(combined_output)\n",
        "            a = layers.BatchNormalization()(a)\n",
        "\n",
        "\n",
        "            a_residual = a  # Save the current state of x for a residual connection later\n",
        "\n",
        "            a = layers.Dense(self.num_classes * 64 , activation=tfa.activations.gelu)(a)\n",
        "            a = layers.BatchNormalization()(a)\n",
        "\n",
        "\n",
        "            a = layers.Dense(self.num_classes * 32 , activation=tfa.activations.gelu)(a)\n",
        "\n",
        "            # Residual Connection\n",
        "            a = layers.concatenate([a, a_residual])\n",
        "\n",
        "            a = layers.BatchNormalization()(a)\n",
        "            a = layers.Dense(self.num_classes * 8 * 2, activation=tfa.activations.gelu)(a)\n",
        "\n",
        "\n",
        "\n",
        "\n",
        "            final = layers.concatenate([x, a])\n",
        "            final = layers.Dense(self.num_classes * 8 , activation=tfa.activations.gelu)(final)\n",
        "\n",
        "\n",
        "\n",
        "            prediction = layers.Dense(self.num_classes, activation='softmax')(final)\n",
        "\n",
        "            # Create the combined model\n",
        "            combined_model = tf.keras.Model(inputs=inputs, outputs=prediction)\n",
        "\n",
        "            # Compile the combined model\n",
        "            combined_model.compile(optimizer='adam',\n",
        "                                  loss=tf.keras.losses.CategoricalCrossentropy(),\n",
        "                                  metrics=['accuracy'])\n",
        "\n",
        "            # Add the combined model to self.md\n",
        "            self.md[combination] = {'model': combined_model}\n",
        "\n",
        "    def build(self, output=\"softmax\"):\n",
        "        for model in self.models.keys():\n",
        "            if model == 'EfficientNetV2L':\n",
        "                mymod = self.models[model](input_shape=self.IMAGE_SIZE + [3], weights='imagenet', include_top=False,include_preprocessing=True)\n",
        "            else:\n",
        "              mymod = self.models[model](input_shape=self.IMAGE_SIZE + [3], weights='imagenet', include_top=False)\n",
        "            for layer in mymod.layers:\n",
        "                layer.trainable = False\n",
        "            x = layers.Flatten()(mymod.output)\n",
        "            x = layers.BatchNormalization()(x)\n",
        "            x = layers.Dense(self.num_classes * 256, activation='relu')(x)\n",
        "            x = layers.Dense(self.num_classes * 128, activation=tfa.activations.gelu)(x)\n",
        "            prediction = layers.Dense(self.num_classes, activation='softmax')(x)\n",
        "            mod = Model(inputs=mymod.input, outputs=prediction)\n",
        "            mod.compile(optimizer='adam',\n",
        "                        loss=tf.keras.losses.CategoricalCrossentropy(),\n",
        "                        metrics=['accuracy'])\n",
        "            self.md[model] = {'model':mod}\n",
        "\n",
        "    def train(self, epochs):\n",
        "        for model_name, model_info in self.md.items():\n",
        "            model = model_info['model']\n",
        "            history = self._train_single_model(model, epochs)\n",
        "            model_info['history'] = history\n",
        "\n",
        "    def _train_single_model(self, model, epochs):\n",
        "        tensorboard_callback = tf.keras.callbacks.TensorBoard(log_dir='logs')\n",
        "        print(model)\n",
        "        history = model.fit(\n",
        "            self.train_ds,\n",
        "            epochs=epochs,\n",
        "            validation_data=self.val_ds,\n",
        "            callbacks=[tensorboard_callback]\n",
        "        )\n",
        "        return history\n",
        "\n",
        "    def evaluate(self):\n",
        "         for m in self.md.keys():\n",
        "            model = self.md[m]['model']\n",
        "            hist = self.md[m]['history'].history\n",
        "            l2 = {}\n",
        "            l1 = {'tn': TrueNegatives(), 'tp': TruePositives(), 'fn': FalseNegatives(), 'fp': FalsePositives(),\n",
        "                  'Precision': Precision(), 'recall': Recall(), 'accuracy': CategoricalAccuracy(), 'auc': AUC(),\n",
        "                  'F1': tfa.metrics.F1Score(num_classes=self.num_classes)}\n",
        "            xx, yy, yypred = [], [], []\n",
        "            for batch in self.val_ds.as_numpy_iterator():\n",
        "                X, y = batch\n",
        "                xx.extend(X)\n",
        "                yy.extend(y)\n",
        "                yhat = model.predict(X)\n",
        "                yypred.extend(yhat)\n",
        "                for key in l1.keys():\n",
        "                    l1[key].update_state(y, yhat)\n",
        "\n",
        "            yy = np.argmax(yy, axis=1)\n",
        "            yypred = np.argmax(yypred, axis=1)\n",
        "            precision, recall, fscore, support = score(yy, yypred)\n",
        "            self.eval['details']['fscore'].append(fscore.tolist())\n",
        "            self.eval['details']['Recall'].append(recall.tolist())\n",
        "            self.eval['details']['Precision'].append(precision.tolist())\n",
        "            self.eval['details']['support'].append(support.tolist())\n",
        "            self.eval['details']['accuracy'].append(accuracy_score(yy, yypred))\n",
        "            self.eval['details']['auc'].append(l1['auc'].result().numpy())\n",
        "            self.eval['details']['model'].append(m)\n",
        "            self.eval['details']['cm'].append(confusion_matrix(yypred,yy))\n",
        "            self.eval['details']['F1'].append(l1['F1'].result().numpy())\n",
        "            self.eval['acc'][m] = hist['accuracy']\n",
        "            self.eval['valacc'][m] = hist['val_accuracy']\n",
        "            self.eval['loss'][m] = hist['loss']\n",
        "            self.eval['valloss'][m] = hist['val_loss']\n",
        "\n",
        "# Usage\n",
        "IMAGE_SIZE = [224, 224]\n",
        "solver = Solver(IMAGE_SIZE)\n",
        "# solver.load_data('data')\n",
        "\n",
        "# Custom models like 'vgg&dense': ['VGG16', 'DenseNet201']\n",
        "custom_models = {\n",
        "\n",
        "    'convex' : ['ConvNeXtXLarge'],\n",
        "    'efficent&resnet' : ['EfficientNetV2L','VGG16'],\n",
        "    'DenseNet201&VGG19' : ['DenseNet201','VGG19']\n",
        "\n",
        "}\n",
        "\n",
        "solver.load_data('data',BATCH_SIZE=64,val_split=0.15)\n",
        "solver.combine(custom_models)\n",
        "solver.train(12)\n",
        "\n",
        "\n",
        "solver.md.clear()\n",
        "solver.load_data('data')\n",
        "solver.build()\n",
        "solver.train(12)\n",
        "solver.evaluate()\n",
        "eval = solver.eval"
      ]
    },
    {
      "cell_type": "code",
      "execution_count": null,
      "metadata": {
        "id": "WqYhmaB3p6h2"
      },
      "outputs": [],
      "source": [
        "sol = solver"
      ]
    },
    {
      "cell_type": "code",
      "execution_count": null,
      "metadata": {
        "colab": {
          "base_uri": "https://localhost:8080/"
        },
        "id": "gW_MbOM3M4AU",
        "outputId": "582b57b3-26b9-477a-8249-48c9b1b22bb2"
      },
      "outputs": [
        {
          "data": {
            "text/plain": [
              "dict_keys(['VGG16', 'VGG19', 'DenseNet201', 'ResNet101', 'EfficientNetV2L', 'NASNetLarge', 'ConvNeXtXLarge', 'vgg&dense', 'efficent&resnet'])"
            ]
          },
          "execution_count": 2,
          "metadata": {},
          "output_type": "execute_result"
        }
      ],
      "source": [
        "sol.md.keys()"
      ]
    },
    {
      "cell_type": "code",
      "execution_count": null,
      "metadata": {
        "id": "hNlEPLSmeggZ"
      },
      "outputs": [],
      "source": [
        "mo = 'ConvNeXtXLarge'"
      ]
    },
    {
      "cell_type": "code",
      "execution_count": null,
      "metadata": {
        "id": "RhpA64l7YRwB"
      },
      "outputs": [],
      "source": [
        "\n",
        "for m,c in dict(zip(sol.eval['details']['model'],sol.eval['details']['cm'])).items():\n",
        "    import seaborn as sns\n",
        "    import matplotlib.pyplot  as plt\n",
        "    cm = c\n",
        "    plt.figure(figsize=(6,6))\n",
        "    sns.heatmap(cm,annot=True, fmt='.3f', linewidths=.5, square=True,cmap='Blues_r')\n",
        "    plt.ylabel('Actual label')\n",
        "    plt.xlabel('Predicted label')\n",
        "    title = mo\n",
        "    all_sample_title = 'Accuracy Score: {0}'.format(accuracy_score(yypred,yy)*100)\n",
        "    # plt.title(size=10,loc='right')\n",
        "    plt.title(title,size=10,loc='left')\n",
        "    plt.show()"
      ]
    },
    {
      "cell_type": "code",
      "execution_count": null,
      "metadata": {
        "id": "PGM5QwQzsr4F"
      },
      "outputs": [],
      "source": [
        "eval = sol.eval\n",
        "details = eval['details']\n",
        "df = pd.DataFrame(details)\n",
        "df = df.set_index('model')\n",
        "df"
      ]
    },
    {
      "cell_type": "code",
      "execution_count": null,
      "metadata": {
        "id": "QwBw-fs2S11_"
      },
      "outputs": [],
      "source": [
        "def vscore(data,time):\n",
        "  sum , default ,t = 0 , 0.6 , 0.2\n",
        "  for d in data:\n",
        "    sum += d*default\n",
        "  sum -= time*t*t\n",
        "  return sum"
      ]
    },
    {
      "cell_type": "code",
      "execution_count": null,
      "metadata": {
        "id": "brHC21Cl3K0n"
      },
      "outputs": [],
      "source": [
        "df"
      ]
    },
    {
      "cell_type": "code",
      "execution_count": null,
      "metadata": {
        "id": "vowkIuxZScyu"
      },
      "outputs": [],
      "source": [
        "time = []\n",
        "for m in sol.md.keys():\n",
        "  time.append(sol.md[m]['time'])\n",
        "print(time)\n",
        "print(sol.md.keys())\n",
        "time_norm = [(ti - min(time))/(max(time)-min(time)) for ti in time]\n",
        "df['norm time'] = time_norm\n"
      ]
    },
    {
      "cell_type": "code",
      "execution_count": null,
      "metadata": {
        "id": "6AlFBP9JHFty"
      },
      "outputs": [],
      "source": [
        "col = ['support', 'fscore', 'Recall', 'Precision','F1']\n",
        "data = ['Precision','Recall','accuracy' ,'auc', 'F1']\n",
        "def avg(row):\n",
        "  for x in col:\n",
        "    row[x] = sum(row[x])/len(row[x])\n",
        "  row['vscore'] = vscore([row[d] for d in data],row['norm time'])\n",
        "  return row\n"
      ]
    },
    {
      "cell_type": "code",
      "execution_count": null,
      "metadata": {
        "id": "XxRk-rd7kYX3"
      },
      "outputs": [],
      "source": [
        "df = df.apply(avg,axis=1)\n",
        "df = df.drop(columns=['support'])\n",
        "df = df.drop(columns=['fscore'])\n",
        "df"
      ]
    },
    {
      "cell_type": "code",
      "execution_count": null,
      "metadata": {
        "id": "9o8F1pWtDC6V"
      },
      "outputs": [],
      "source": [
        "import plotly.graph_objects as go\n",
        "\n",
        "years = df.index\n",
        "fig = go.Figure()\n",
        "fig.add_trace(go.Bar(x=years,\n",
        "                y=df['Recall'],\n",
        "                name='<b>Recall<b>',\n",
        "                marker_color='rgb(55, 83, 109)'\n",
        "                ))\n",
        "fig.add_trace(go.Bar(x=years,\n",
        "                y=df['F1'],\n",
        "                name='<b>F1 score<b>',\n",
        "                marker_color='rgb(26, 118, 255)'\n",
        "                ))\n",
        "fig.add_trace(go.Bar(x=years,\n",
        "                y=df['auc'],\n",
        "                name='<b>auc<b>',\n",
        "                marker_color='rgb(148,0,211)'\n",
        "                ))\n",
        "fig.add_trace(go.Bar(x=years,\n",
        "                y=df['accuracy'],\n",
        "                name='<b>accuracy<b>',\n",
        "                marker_color='rgb(34,139,34)'\n",
        "                ))\n",
        "fig.add_trace(go.Bar(x=years,\n",
        "                y=df['Precision'],\n",
        "                name='<b>Precision<b>',\n",
        "                marker_color='rgb(255,140,0)'\n",
        "                ))\n",
        "fig.add_trace(go.Bar(x=years,\n",
        "                y=df['vscore'],\n",
        "                name='<b>Vscore<b>',\n",
        "                marker_color='rgb(255,10,10)'\n",
        "                ))\n",
        "\n",
        "fig.update_layout(\n",
        "    autosize=False,\n",
        "    width=600,                                                   #resize\n",
        "    height=400,\n",
        "    title='<b>Model Evaluation<b>',\n",
        "    xaxis_tickfont_size=14,\n",
        "    yaxis=dict(\n",
        "        title='<b>Score<b>',\n",
        "        titlefont_size=16,\n",
        "        tickfont_size=14,\n",
        "    ),\n",
        "    legend=dict(\n",
        "        x=1.0,\n",
        "        y=1.0,\n",
        "        bgcolor='rgba(255, 255, 255, 0)',\n",
        "        bordercolor='rgba(255, 255, 255, 0)'\n",
        "    ),\n",
        "    barmode='group',\n",
        "    bargap=0.15, # gap between bars of adjacent location coordinates.\n",
        "    bargroupgap=0.1 # gap between bars of the same location coordinate.\n",
        ")\n",
        "fig.show()"
      ]
    },
    {
      "cell_type": "code",
      "execution_count": null,
      "metadata": {
        "id": "pxhuwjKC_5r6"
      },
      "outputs": [],
      "source": [
        "import plotly.graph_objects as go\n",
        "\n",
        "years = df.index\n",
        "fig = go.Figure()\n",
        "fig.add_trace(go.Bar(x=years,\n",
        "                y=df['Recall'],\n",
        "                name='<b>Recall<b>',\n",
        "                marker_color='rgb(55, 83, 109)'\n",
        "                ))\n",
        "fig.add_trace(go.Bar(x=years,\n",
        "                y=df['F1'],\n",
        "                name='<b>F1 score<b>',\n",
        "                marker_color='rgb(26, 118, 255)'\n",
        "                ))\n",
        "fig.add_trace(go.Bar(x=years,\n",
        "                y=df['auc'],\n",
        "                name='<b>auc<b>',\n",
        "                marker_color='rgb(148,0,211)'\n",
        "                ))\n",
        "fig.add_trace(go.Bar(x=years,\n",
        "                y=df['accuracy'],\n",
        "                name='<b>accuracy<b>',\n",
        "                marker_color='rgb(34,139,34)'\n",
        "                ))\n",
        "fig.add_trace(go.Bar(x=years,\n",
        "                y=df['Precision'],\n",
        "                name='<b>Precision<b>',\n",
        "                marker_color='rgb(255,140,0)'\n",
        "                ))\n",
        "fig.add_trace(go.Bar(x=years,\n",
        "                y=df['vscore'],\n",
        "                name='<b>Vscore<b>',\n",
        "                marker_color='rgb(255,10,10)'\n",
        "                ))\n",
        "\n",
        "fig.update_layout(\n",
        "    autosize=False,\n",
        "    width=1200,                                                   #resize\n",
        "    height=800,\n",
        "    title='<b>Model Evaluation<b>',\n",
        "    xaxis_tickfont_size=14,\n",
        "    yaxis=dict(\n",
        "        title='<b>Score<b>',\n",
        "        titlefont_size=16,\n",
        "        tickfont_size=14,\n",
        "    ),\n",
        "    legend=dict(\n",
        "        x=1.0,\n",
        "        y=1.0,\n",
        "        bgcolor='rgba(255, 255, 255, 0)',\n",
        "        bordercolor='rgba(255, 255, 255, 0)'\n",
        "    ),\n",
        "    barmode='group',\n",
        "    bargap=0.15, # gap between bars of adjacent location coordinates.\n",
        "    bargroupgap=0.1 # gap between bars of the same location coordinate.\n",
        ")\n",
        "fig.show()"
      ]
    },
    {
      "cell_type": "code",
      "execution_count": null,
      "metadata": {
        "id": "dzFf6eBixsM3"
      },
      "outputs": [],
      "source": [
        "import plotly.express as px\n",
        "df1 = pd.DataFrame(sol.eval['acc'])\n",
        "fig = px.line(df1, markers=False ,line_shape='spline',title='Accuracy')\n",
        "fig.show()"
      ]
    },
    {
      "cell_type": "code",
      "execution_count": null,
      "metadata": {
        "id": "kH1yJSH2KEPs"
      },
      "outputs": [],
      "source": [
        "import plotly.express as px\n",
        "df1 = pd.DataFrame(sol.eval['valacc'])\n",
        "fig = px.line(df1, markers=False ,line_shape='spline',title='Validation Accuracy')\n",
        "fig.show()"
      ]
    },
    {
      "cell_type": "code",
      "execution_count": null,
      "metadata": {
        "id": "_5HmSbsUKfTm"
      },
      "outputs": [],
      "source": [
        "import plotly.express as px\n",
        "df1 = pd.DataFrame(sol.eval['loss'])\n",
        "fig = px.line(df1, markers=False ,line_shape='spline',title='Loss')\n",
        "fig.show()"
      ]
    },
    {
      "cell_type": "code",
      "execution_count": null,
      "metadata": {
        "id": "3L1NZvpMKh9D"
      },
      "outputs": [],
      "source": [
        "import plotly.express as px\n",
        "df1 = pd.DataFrame(sol.eval['valloss'])\n",
        "fig = px.line(df1, markers=False ,line_shape='spline',title='Validation loss')\n",
        "fig.show()"
      ]
    },
    {
      "cell_type": "code",
      "execution_count": null,
      "metadata": {
        "id": "J9v-rV0HPV4w"
      },
      "outputs": [],
      "source": [
        "df1"
      ]
    },
    {
      "cell_type": "code",
      "execution_count": null,
      "metadata": {
        "colab": {
          "base_uri": "https://localhost:8080/"
        },
        "id": "Sc3njhV7V2z1",
        "outputId": "99aa53cb-ca71-4a5b-fe45-e01a1e250c17"
      },
      "outputs": [
        {
          "data": {
            "text/plain": [
              "dict_keys(['VGG16', 'VGG19', 'DenseNet201', 'ResNet101', 'EfficientNetV2L', 'NASNetLarge', 'ConvNeXtXLarge', 'vgg&dense', 'efficent&resnet'])"
            ]
          },
          "execution_count": 144,
          "metadata": {},
          "output_type": "execute_result"
        }
      ],
      "source": [
        "sol.md.keys()"
      ]
    },
    {
      "cell_type": "code",
      "execution_count": null,
      "metadata": {
        "id": "Fs_EbnOUSn-B"
      },
      "outputs": [],
      "source": [
        "mo = list(sol.md.keys())[8]\n",
        "hist = sol.md[mo]['history']\n",
        "model = sol.md[mo]['model']"
      ]
    },
    {
      "cell_type": "code",
      "execution_count": null,
      "metadata": {
        "id": "mC_riE9Zou_r"
      },
      "outputs": [],
      "source": [
        "from sklearn.metrics import accuracy_score,confusion_matrix,classification_report\n",
        "from tensorflow.keras.metrics import Precision, Recall, CategoricalAccuracy, AUC , TrueNegatives , TruePositives, FalseNegatives, FalsePositives\n",
        "l1 = {'tn' : TrueNegatives() ,'tp': TruePositives(),'fn': FalseNegatives(),'fp': FalsePositives(),'presion': Precision(),'recall': Recall(),'accuracy':CategoricalAccuracy(),'auc' :AUC()}\n",
        "\n",
        "val_ds = sol.val_ds\n",
        "\n",
        "for x in range\n",
        "  xx , yy , yypred = [], [], []\n",
        "  for batch in val_ds.as_numpy_iterator():\n",
        "      X, y = batch\n",
        "      xx.extend(X)\n",
        "      yy.extend(y)\n",
        "      yhat = model.predict(X)\n",
        "      yypred.extend(yhat)\n",
        "      for key in l1.keys():\n",
        "        l1[key].update_state(y, yhat)\n",
        "  yy = np.argmax(yy, axis=1)\n",
        "  yypred = np.argmax(yypred, axis=1)\n",
        "\n",
        "  import seaborn as sns\n",
        "  import matplotlib.pyplot  as plt\n",
        "  cm = confusion_matrix(yypred,yy)\n",
        "  plt.figure(figsize=(6,6))\n",
        "  sns.heatmap(cm,annot=True, fmt='.3f', linewidths=.5, square=True,cmap='Blues_r')\n",
        "  plt.ylabel('Actual label')\n",
        "  plt.xlabel('Predicted label')\n",
        "  title = mo\n",
        "  all_sample_title = 'Accuracy Score: {0}'.format(accuracy_score(yypred,yy)*100)\n",
        "  # plt.title(size=10,loc='right')\n",
        "  plt.title(title,size=10,loc='left')\n",
        "  plt.show()"
      ]
    },
    {
      "cell_type": "code",
      "execution_count": null,
      "metadata": {
        "id": "5U2CbqQNWhXL"
      },
      "outputs": [],
      "source": [
        "# model.summary()"
      ]
    },
    {
      "cell_type": "code",
      "execution_count": null,
      "metadata": {
        "id": "lyDkgggKMDZr"
      },
      "outputs": [],
      "source": [
        "def vscore(data,time):\n",
        "  sum , default ,t = 0 , 0.6 , 0.8\n",
        "  for d,v in data.items():\n",
        "    sum += v*default\n",
        "  sum -= time*t*t\n",
        "  return sum"
      ]
    },
    {
      "cell_type": "code",
      "execution_count": null,
      "metadata": {
        "colab": {
          "base_uri": "https://localhost:8080/"
        },
        "id": "0tWUk1YZMAT6",
        "outputId": "43071c82-c1ca-4763-8c98-a017c2e34b40"
      },
      "outputs": [
        {
          "name": "stdout",
          "output_type": "stream",
          "text": [
            "time 975.5256996154785\n"
          ]
        }
      ],
      "source": [
        "print('time',sol.md[mo]['time'])"
      ]
    },
    {
      "cell_type": "code",
      "execution_count": null,
      "metadata": {
        "colab": {
          "base_uri": "https://localhost:8080/",
          "height": 478
        },
        "id": "rRgcgXXxrZ7e",
        "outputId": "1e63fa2d-b52c-4037-e721-1f0fb20c206c"
      },
      "outputs": [
        {
          "data": {
            "image/png": "[encoded data removed]",
            "text/plain": [
              "<Figure size 640x480 with 1 Axes>"
            ]
          },
          "metadata": {},
          "output_type": "display_data"
        }
      ],
      "source": [
        "fig = plt.figure()\n",
        "plt.plot(hist.history['loss'], color='teal', label='loss')\n",
        "plt.plot(hist.history['val_loss'], color='orange', label='val_loss')\n",
        "fig.suptitle('Loss', fontsize=20)\n",
        "plt.legend(loc=\"upper left\")\n",
        "plt.show()"
      ]
    },
    {
      "cell_type": "code",
      "execution_count": null,
      "metadata": {
        "colab": {
          "base_uri": "https://localhost:8080/",
          "height": 478
        },
        "id": "ZpwbfqE8SpnS",
        "outputId": "2b89565d-9a5c-44ac-f1a1-1c9aa4661e86"
      },
      "outputs": [
        {
          "data": {
            "image/png": "[encoded data removed]",
            "text/plain": [
              "<Figure size 640x480 with 1 Axes>"
            ]
          },
          "metadata": {},
          "output_type": "display_data"
        }
      ],
      "source": [
        "fig = plt.figure()\n",
        "plt.plot(hist.history['accuracy'], color='teal', label='accuracy')\n",
        "plt.plot(hist.history['val_accuracy'], color='orange', label='val_accuracy')\n",
        "# plt.plot(hist.history['loss'], color='green', label='loss')\n",
        "fig.suptitle('Accuracy', fontsize=20)\n",
        "plt.legend(loc=\"upper left\")\n",
        "plt.show()"
      ]
    },
    {
      "cell_type": "code",
      "execution_count": null,
      "metadata": {
        "colab": {
          "base_uri": "https://localhost:8080/",
          "height": 519
        },
        "id": "l1zyrLP1sh_Q",
        "outputId": "1c3bfb08-4371-404d-b1f8-9b82ab90b0c7"
      },
      "outputs": [
        {
          "data": {
            "text/html": [
              "\n",
              "  <div id=\"df-2017eb2e-5ca4-4b18-82ee-66637907e6ca\">\n",
              "    <div class=\"colab-df-container\">\n",
              "      <div>\n",
              "<style scoped>\n",
              "    .dataframe tbody tr th:only-of-type {\n",
              "        vertical-align: middle;\n",
              "    }\n",
              "\n",
              "    .dataframe tbody tr th {\n",
              "        vertical-align: top;\n",
              "    }\n",
              "\n",
              "    .dataframe thead th {\n",
              "        text-align: right;\n",
              "    }\n",
              "</style>\n",
              "<table border=\"1\" class=\"dataframe\">\n",
              "  <thead>\n",
              "    <tr style=\"text-align: right;\">\n",
              "      <th></th>\n",
              "      <th>loss</th>\n",
              "      <th>accuracy</th>\n",
              "      <th>val_loss</th>\n",
              "      <th>val_accuracy</th>\n",
              "    </tr>\n",
              "  </thead>\n",
              "  <tbody>\n",
              "    <tr>\n",
              "      <th>0</th>\n",
              "      <td>0.382580</td>\n",
              "      <td>0.815011</td>\n",
              "      <td>0.305840</td>\n",
              "      <td>0.867982</td>\n",
              "    </tr>\n",
              "    <tr>\n",
              "      <th>1</th>\n",
              "      <td>0.205648</td>\n",
              "      <td>0.905610</td>\n",
              "      <td>0.298304</td>\n",
              "      <td>0.886191</td>\n",
              "    </tr>\n",
              "    <tr>\n",
              "      <th>2</th>\n",
              "      <td>0.107857</td>\n",
              "      <td>0.953753</td>\n",
              "      <td>0.385554</td>\n",
              "      <td>0.886191</td>\n",
              "    </tr>\n",
              "    <tr>\n",
              "      <th>3</th>\n",
              "      <td>0.070190</td>\n",
              "      <td>0.968916</td>\n",
              "      <td>0.604606</td>\n",
              "      <td>0.854325</td>\n",
              "    </tr>\n",
              "    <tr>\n",
              "      <th>4</th>\n",
              "      <td>0.041034</td>\n",
              "      <td>0.984837</td>\n",
              "      <td>0.548146</td>\n",
              "      <td>0.895296</td>\n",
              "    </tr>\n",
              "    <tr>\n",
              "      <th>5</th>\n",
              "      <td>0.025992</td>\n",
              "      <td>0.991281</td>\n",
              "      <td>0.621356</td>\n",
              "      <td>0.886191</td>\n",
              "    </tr>\n",
              "    <tr>\n",
              "      <th>6</th>\n",
              "      <td>0.017864</td>\n",
              "      <td>0.995451</td>\n",
              "      <td>0.746182</td>\n",
              "      <td>0.880121</td>\n",
              "    </tr>\n",
              "    <tr>\n",
              "      <th>7</th>\n",
              "      <td>0.026501</td>\n",
              "      <td>0.989765</td>\n",
              "      <td>0.824874</td>\n",
              "      <td>0.867982</td>\n",
              "    </tr>\n",
              "    <tr>\n",
              "      <th>8</th>\n",
              "      <td>0.028530</td>\n",
              "      <td>0.987870</td>\n",
              "      <td>0.748797</td>\n",
              "      <td>0.867982</td>\n",
              "    </tr>\n",
              "    <tr>\n",
              "      <th>9</th>\n",
              "      <td>0.042968</td>\n",
              "      <td>0.985974</td>\n",
              "      <td>0.516881</td>\n",
              "      <td>0.893778</td>\n",
              "    </tr>\n",
              "    <tr>\n",
              "      <th>10</th>\n",
              "      <td>0.005179</td>\n",
              "      <td>0.998863</td>\n",
              "      <td>0.652240</td>\n",
              "      <td>0.889226</td>\n",
              "    </tr>\n",
              "    <tr>\n",
              "      <th>11</th>\n",
              "      <td>0.002974</td>\n",
              "      <td>0.998484</td>\n",
              "      <td>0.684451</td>\n",
              "      <td>0.895296</td>\n",
              "    </tr>\n",
              "    <tr>\n",
              "      <th>12</th>\n",
              "      <td>0.001309</td>\n",
              "      <td>1.000000</td>\n",
              "      <td>0.736831</td>\n",
              "      <td>0.901366</td>\n",
              "    </tr>\n",
              "    <tr>\n",
              "      <th>13</th>\n",
              "      <td>0.000378</td>\n",
              "      <td>1.000000</td>\n",
              "      <td>0.754464</td>\n",
              "      <td>0.901366</td>\n",
              "    </tr>\n",
              "    <tr>\n",
              "      <th>14</th>\n",
              "      <td>0.000226</td>\n",
              "      <td>1.000000</td>\n",
              "      <td>0.779894</td>\n",
              "      <td>0.899848</td>\n",
              "    </tr>\n",
              "  </tbody>\n",
              "</table>\n",
              "</div>\n",
              "      <button class=\"colab-df-convert\" onclick=\"convertToInteractive('df-2017eb2e-5ca4-4b18-82ee-66637907e6ca')\"\n",
              "              title=\"Convert this dataframe to an interactive table.\"\n",
              "              style=\"display:none;\">\n",
              "        \n",
              "  <svg xmlns=\"http://www.w3.org/2000/svg\" height=\"24px\"viewBox=\"0 0 24 24\"\n",
              "       width=\"24px\">\n",
              "    <path d=\"M0 0h24v24H0V0z\" fill=\"none\"/>\n",
              "    <path d=\"M18.56 5.44l.94 2.06.94-2.06 2.06-.94-2.06-.94-.94-2.06-.94 2.06-2.06.94zm-11 1L8.5 8.5l.94-2.06 2.06-.94-2.06-.94L8.5 2.5l-.94 2.06-2.06.94zm10 10l.94 2.06.94-2.06 2.06-.94-2.06-.94-.94-2.06-.94 2.06-2.06.94z\"/><path d=\"M17.41 7.96l-1.37-1.37c-.4-.4-.92-.59-1.43-.59-.52 0-1.04.2-1.43.59L10.3 9.45l-7.72 7.72c-.78.78-.78 2.05 0 2.83L4 21.41c.39.39.9.59 1.41.59.51 0 1.02-.2 1.41-.59l7.78-7.78 2.81-2.81c.8-.78.8-2.07 0-2.86zM5.41 20L4 18.59l7.72-7.72 1.47 1.35L5.41 20z\"/>\n",
              "  </svg>\n",
              "      </button>\n",
              "      \n",
              "  <style>\n",
              "    .colab-df-container {\n",
              "      display:flex;\n",
              "      flex-wrap:wrap;\n",
              "      gap: 12px;\n",
              "    }\n",
              "\n",
              "    .colab-df-convert {\n",
              "      background-color: #E8F0FE;\n",
              "      border: none;\n",
              "      border-radius: 50%;\n",
              "      cursor: pointer;\n",
              "      display: none;\n",
              "      fill: #1967D2;\n",
              "      height: 32px;\n",
              "      padding: 0 0 0 0;\n",
              "      width: 32px;\n",
              "    }\n",
              "\n",
              "    .colab-df-convert:hover {\n",
              "      background-color: #E2EBFA;\n",
              "      box-shadow: 0px 1px 2px rgba(60, 64, 67, 0.3), 0px 1px 3px 1px rgba(60, 64, 67, 0.15);\n",
              "      fill: #174EA6;\n",
              "    }\n",
              "\n",
              "    [theme=dark] .colab-df-convert {\n",
              "      background-color: #3B4455;\n",
              "      fill: #D2E3FC;\n",
              "    }\n",
              "\n",
              "    [theme=dark] .colab-df-convert:hover {\n",
              "      background-color: #434B5C;\n",
              "      box-shadow: 0px 1px 3px 1px rgba(0, 0, 0, 0.15);\n",
              "      filter: drop-shadow(0px 1px 2px rgba(0, 0, 0, 0.3));\n",
              "      fill: #FFFFFF;\n",
              "    }\n",
              "  </style>\n",
              "\n",
              "      <script>\n",
              "        const buttonEl =\n",
              "          document.querySelector('#df-2017eb2e-5ca4-4b18-82ee-66637907e6ca button.colab-df-convert');\n",
              "        buttonEl.style.display =\n",
              "          google.colab.kernel.accessAllowed ? 'block' : 'none';\n",
              "\n",
              "        async function convertToInteractive(key) {\n",
              "          const element = document.querySelector('#df-2017eb2e-5ca4-4b18-82ee-66637907e6ca');\n",
              "          const dataTable =\n",
              "            await google.colab.kernel.invokeFunction('convertToInteractive',\n",
              "                                                     [key], {});\n",
              "          if (!dataTable) return;\n",
              "\n",
              "          const docLinkHtml = 'Like what you see? Visit the ' +\n",
              "            '<a target=\"_blank\" href=https://colab.research.google.com/notebooks/data_table.ipynb>data table notebook</a>'\n",
              "            + ' to learn more about interactive tables.';\n",
              "          element.innerHTML = '';\n",
              "          dataTable['output_type'] = 'display_data';\n",
              "          await google.colab.output.renderOutput(dataTable, element);\n",
              "          const docLink = document.createElement('div');\n",
              "          docLink.innerHTML = docLinkHtml;\n",
              "          element.appendChild(docLink);\n",
              "        }\n",
              "      </script>\n",
              "    </div>\n",
              "  </div>\n",
              "  "
            ],
            "text/plain": [
              "        loss  accuracy  val_loss  val_accuracy\n",
              "0   0.382580  0.815011  0.305840      0.867982\n",
              "1   0.205648  0.905610  0.298304      0.886191\n",
              "2   0.107857  0.953753  0.385554      0.886191\n",
              "3   0.070190  0.968916  0.604606      0.854325\n",
              "4   0.041034  0.984837  0.548146      0.895296\n",
              "5   0.025992  0.991281  0.621356      0.886191\n",
              "6   0.017864  0.995451  0.746182      0.880121\n",
              "7   0.026501  0.989765  0.824874      0.867982\n",
              "8   0.028530  0.987870  0.748797      0.867982\n",
              "9   0.042968  0.985974  0.516881      0.893778\n",
              "10  0.005179  0.998863  0.652240      0.889226\n",
              "11  0.002974  0.998484  0.684451      0.895296\n",
              "12  0.001309  1.000000  0.736831      0.901366\n",
              "13  0.000378  1.000000  0.754464      0.901366\n",
              "14  0.000226  1.000000  0.779894      0.899848"
            ]
          },
          "execution_count": 166,
          "metadata": {},
          "output_type": "execute_result"
        }
      ],
      "source": [
        "pd.DataFrame(hist.history)"
      ]
    },
    {
      "cell_type": "code",
      "execution_count": null,
      "metadata": {
        "id": "tn6roJCcEzdh"
      },
      "outputs": [],
      "source": [
        "from sklearn.metrics import accuracy_score,confusion_matrix,classification_report"
      ]
    },
    {
      "cell_type": "code",
      "execution_count": null,
      "metadata": {
        "id": "CI_EBnqOSrXm"
      },
      "outputs": [],
      "source": [
        "from tensorflow.keras.metrics import Precision, Recall, CategoricalAccuracy, AUC , TrueNegatives , TruePositives, FalseNegatives, FalsePositives\n",
        "l1 = {'tn' : TrueNegatives() ,'tp': TruePositives(),'fn': FalseNegatives(),'fp': FalsePositives(),'presion': Precision(),'recall': Recall(),'accuracy':CategoricalAccuracy(),'auc' :AUC()}"
      ]
    },
    {
      "cell_type": "code",
      "execution_count": null,
      "metadata": {
        "id": "g9SsYea-eVIi"
      },
      "outputs": [],
      "source": [
        "val_ds = sol.val_ds"
      ]
    },
    {
      "cell_type": "code",
      "execution_count": null,
      "metadata": {
        "colab": {
          "base_uri": "https://localhost:8080/"
        },
        "id": "zmnh2e_nSubG",
        "outputId": "3b5b0c4c-2811-4ff6-9f13-e28295cbef5f"
      },
      "outputs": [
        {
          "name": "stdout",
          "output_type": "stream",
          "text": [
            "2/2 [==============================] - 1s 487ms/step\n",
            "2/2 [==============================] - 1s 489ms/step\n",
            "2/2 [==============================] - 1s 495ms/step\n",
            "2/2 [==============================] - 1s 491ms/step\n",
            "2/2 [==============================] - 1s 490ms/step\n",
            "2/2 [==============================] - 1s 503ms/step\n",
            "2/2 [==============================] - 1s 502ms/step\n",
            "2/2 [==============================] - 1s 489ms/step\n",
            "2/2 [==============================] - 1s 491ms/step\n",
            "2/2 [==============================] - 1s 495ms/step\n",
            "1/1 [==============================] - 0s 250ms/step\n"
          ]
        }
      ],
      "source": [
        "xx , yy , yypred = [], [], []\n",
        "for batch in val_ds.as_numpy_iterator():\n",
        "    X, y = batch\n",
        "    xx.extend(X)\n",
        "    yy.extend(y)\n",
        "    yhat = model.predict(X)\n",
        "    yypred.extend(yhat)\n",
        "    for key in l1.keys():\n",
        "      l1[key].update_state(y, yhat)\n",
        "yy = np.argmax(yy, axis=1)\n",
        "yypred = np.argmax(yypred, axis=1)\n",
        "\n"
      ]
    },
    {
      "cell_type": "code",
      "execution_count": null,
      "metadata": {
        "colab": {
          "base_uri": "https://localhost:8080/",
          "height": 516
        },
        "id": "b4i9xG9x1WpE",
        "outputId": "7c07f083-4770-4f76-ea70-8acc57be0669"
      },
      "outputs": [
        {
          "data": {
            "text/plain": [
              "Text(0.0, 1.0, 'efficent&resnet')"
            ]
          },
          "execution_count": 171,
          "metadata": {},
          "output_type": "execute_result"
        },
        {
          "data": {
            "image/png": "[encoded data removed]",
            "text/plain": [
              "<Figure size 600x600 with 2 Axes>"
            ]
          },
          "metadata": {},
          "output_type": "display_data"
        }
      ],
      "source": [
        "import seaborn as sns\n",
        "import matplotlib.pyplot  as plt\n",
        "cm = confusion_matrix(yypred,yy)\n",
        "plt.figure(figsize=(6,6))\n",
        "sns.heatmap(cm,annot=True, fmt='.3f', linewidths=.5, square=True,cmap='Blues_r')\n",
        "plt.ylabel('Actual label')\n",
        "plt.xlabel('Predicted label')\n",
        "title = mo\n",
        "all_sample_title = 'Accuracy Score: {0}'.format(accuracy_score(yypred,yy)*100)\n",
        "# plt.title(size=10,loc='right')\n",
        "plt.title(title,size=10,loc='left')"
      ]
    },
    {
      "cell_type": "code",
      "execution_count": null,
      "metadata": {
        "colab": {
          "base_uri": "https://localhost:8080/"
        },
        "id": "5AxGyP9svaQ4",
        "outputId": "3e5af220-911b-4adc-c8ab-3ec68e4cd22b"
      },
      "outputs": [
        {
          "data": {
            "text/plain": [
              "array([[331,  34],\n",
              "       [ 32, 262]])"
            ]
          },
          "execution_count": 172,
          "metadata": {},
          "output_type": "execute_result"
        }
      ],
      "source": [
        "confusion_matrix(yypred,yy)"
      ]
    },
    {
      "cell_type": "code",
      "execution_count": null,
      "metadata": {
        "colab": {
          "base_uri": "https://localhost:8080/"
        },
        "id": "4-mwOcDmyz2d",
        "outputId": "801c2810-e4be-443a-91d6-6a26b96c3275"
      },
      "outputs": [
        {
          "name": "stdout",
          "output_type": "stream",
          "text": [
            "              precision    recall  f1-score   support\n",
            "\n",
            "           0       0.91      0.91      0.91       365\n",
            "           1       0.89      0.89      0.89       294\n",
            "\n",
            "    accuracy                           0.90       659\n",
            "   macro avg       0.90      0.90      0.90       659\n",
            "weighted avg       0.90      0.90      0.90       659\n",
            "\n"
          ]
        }
      ],
      "source": [
        "print(classification_report(yypred,yy))"
      ]
    },
    {
      "cell_type": "code",
      "execution_count": null,
      "metadata": {
        "colab": {
          "base_uri": "https://localhost:8080/"
        },
        "id": "IpW1800ZIyGQ",
        "outputId": "5eda29df-68b0-4f72-9256-9b597d1a44d7"
      },
      "outputs": [
        {
          "name": "stdout",
          "output_type": "stream",
          "text": [
            "tn tf.Tensor(593.0, shape=(), dtype=float32)\n",
            "tp tf.Tensor(593.0, shape=(), dtype=float32)\n",
            "fn tf.Tensor(66.0, shape=(), dtype=float32)\n",
            "fp tf.Tensor(66.0, shape=(), dtype=float32)\n",
            "presion tf.Tensor(0.8998483, shape=(), dtype=float32)\n",
            "recall tf.Tensor(0.8998483, shape=(), dtype=float32)\n",
            "accuracy tf.Tensor(0.8998483, shape=(), dtype=float32)\n",
            "auc tf.Tensor(0.93519175, shape=(), dtype=float32)\n"
          ]
        }
      ],
      "source": [
        "for x,v in l1.items():\n",
        "  print(x,v.result())"
      ]
    },
    {
      "cell_type": "code",
      "execution_count": null,
      "metadata": {
        "id": "MA4NCatg4ZIt"
      },
      "outputs": [],
      "source": []
    }
  ],
  "metadata": {
    "accelerator": "GPU",
    "colab": {
      "provenance": [],
      "include_colab_link": true
    },
    "kernelspec": {
      "display_name": "Python 3",
      "name": "python3"
    },
    "language_info": {
      "name": "python"
    }
  },
  "nbformat": 4,
  "nbformat_minor": 0
}